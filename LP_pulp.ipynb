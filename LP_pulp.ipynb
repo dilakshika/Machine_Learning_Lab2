{
 "cells": [
  {
   "cell_type": "code",
   "execution_count": 1,
   "metadata": {},
   "outputs": [
    {
     "name": "stdout",
     "output_type": "stream",
     "text": [
      "Example_of_standard_maximum_problem:\n",
      "MAXIMIZE\n",
      "1*x1 + 1*x2 + 0\n",
      "SUBJECT TO\n",
      "constraint_1: 20 x1 + 20 x2 <= 2300\n",
      "\n",
      "constraint_2: 10 x1 + 20 x2 <= 1500\n",
      "\n",
      "constraint_3: 2 x1 + 3 x2 <= 250\n",
      "\n",
      "VARIABLES\n",
      "x1 Continuous\n",
      "x2 Continuous\n",
      "\n",
      "Status: Optimal\n",
      "Individual decision_variables: \n",
      "x1 = 95.0\n",
      "x2 = 20.0\n",
      "Optimal Solution to the problem:  115.0\n"
     ]
    },
    {
     "name": "stderr",
     "output_type": "stream",
     "text": [
      "C:\\Users\\dilak\\AppData\\Roaming\\Python\\Python38\\site-packages\\pulp\\pulp.py:1199: UserWarning: Spaces are not permitted in the name. Converted to '_'\n",
      "  warnings.warn(\"Spaces are not permitted in the name. Converted to '_'\")\n"
     ]
    }
   ],
   "source": [
    "from pulp import *\n",
    "from fractions import Fraction\n",
    "\n",
    "prob = LpProblem(\"Example of standard maximum problem\",LpMaximize)\n",
    "\n",
    "# nonnegativity constraints\n",
    "x1=LpVariable(\"x1\",0)\n",
    "x2=LpVariable(\"x2\",0)\n",
    "\n",
    "# objective function\n",
    "prob += x1 + x2, \"Maximum value of x1 + x2\"\n",
    "\n",
    "# main constraints\n",
    "prob += 20*x1 + 20*x2 <= 2300, \"constraint 1\"\n",
    "prob += 10*x1 + 20*x2 <= 1500, \"constraint 2\"\n",
    "prob += 2*x1 + 3*x2 <= 250, \"constraint 3\"\n",
    "\n",
    "#double check the problem\n",
    "print (prob)\n",
    "\n",
    "# The problem is solved using PuLP's choice of Solver\n",
    "prob.solve()\n",
    "\n",
    "# status of the solution\n",
    "print(f\"Status: {LpStatus[prob.status]}\")\n",
    "\n",
    "#Individual decision_variables\n",
    "print (\"Individual decision_variables: \")\n",
    "for v in prob.variables():\n",
    "    print(v.name, \"=\", v.varValue)\n",
    "\n",
    "# maximum value of the objective function\n",
    "print(\"Optimal Solution to the problem: \", value(prob.objective))"
   ]
  },
  {
   "cell_type": "code",
   "execution_count": null,
   "metadata": {},
   "outputs": [],
   "source": []
  },
  {
   "cell_type": "code",
   "execution_count": null,
   "metadata": {},
   "outputs": [],
   "source": []
  },
  {
   "cell_type": "code",
   "execution_count": null,
   "metadata": {},
   "outputs": [],
   "source": []
  }
 ],
 "metadata": {
  "kernelspec": {
   "display_name": "Python 3",
   "language": "python",
   "name": "python3"
  },
  "language_info": {
   "codemirror_mode": {
    "name": "ipython",
    "version": 3
   },
   "file_extension": ".py",
   "mimetype": "text/x-python",
   "name": "python",
   "nbconvert_exporter": "python",
   "pygments_lexer": "ipython3",
   "version": "3.8.5"
  }
 },
 "nbformat": 4,
 "nbformat_minor": 2
}
